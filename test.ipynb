{
 "metadata": {
  "language_info": {
   "codemirror_mode": {
    "name": "ipython",
    "version": 3
   },
   "file_extension": ".py",
   "mimetype": "text/x-python",
   "name": "python",
   "nbconvert_exporter": "python",
   "pygments_lexer": "ipython3",
   "version": 3
  },
  "orig_nbformat": 2
 },
 "nbformat": 4,
 "nbformat_minor": 2,
 "cells": [
  {
   "cell_type": "code",
   "execution_count": 1,
   "metadata": {},
   "outputs": [],
   "source": [
    "import pandas as pd"
   ]
  },
  {
   "cell_type": "code",
   "execution_count": 17,
   "metadata": {},
   "outputs": [],
   "source": [
    "articles = pd.read_csv(\"read.csv\")"
   ]
  },
  {
   "cell_type": "code",
   "execution_count": 18,
   "metadata": {},
   "outputs": [
    {
     "output_type": "execute_result",
     "data": {
      "text/plain": [
       "                                            human_id  \\\n",
       "0                                 The top 100 papers   \n",
       "1             The origin and evolution of cell types   \n",
       "2     Make code accessible with these cloud services   \n",
       "3       Genetic address book for retinal cell types.   \n",
       "4  A community-based transcriptomics classificati...   \n",
       "\n",
       "                                  wikidata_id  \n",
       "0  <a href=./notes/Q28250597.md> Q28250597<\u0007>  \n",
       "1  <a href=./notes/Q38798014.md> Q38798014<\u0007>  \n",
       "2  <a href=./notes/Q91130546.md> Q91130546<\u0007>  \n",
       "3  <a href=./notes/Q43299861.md> Q43299861<\u0007>  \n",
       "4  <a href=./notes/Q98665291.md> Q98665291<\u0007>  "
      ],
      "text/html": "<div>\n<style scoped>\n    .dataframe tbody tr th:only-of-type {\n        vertical-align: middle;\n    }\n\n    .dataframe tbody tr th {\n        vertical-align: top;\n    }\n\n    .dataframe thead th {\n        text-align: right;\n    }\n</style>\n<table border=\"1\" class=\"dataframe\">\n  <thead>\n    <tr style=\"text-align: right;\">\n      <th></th>\n      <th>human_id</th>\n      <th>wikidata_id</th>\n    </tr>\n  </thead>\n  <tbody>\n    <tr>\n      <th>0</th>\n      <td>The top 100 papers</td>\n      <td>&lt;a href=./notes/Q28250597.md&gt; Q28250597&lt;\u0007&gt;</td>\n    </tr>\n    <tr>\n      <th>1</th>\n      <td>The origin and evolution of cell types</td>\n      <td>&lt;a href=./notes/Q38798014.md&gt; Q38798014&lt;\u0007&gt;</td>\n    </tr>\n    <tr>\n      <th>2</th>\n      <td>Make code accessible with these cloud services</td>\n      <td>&lt;a href=./notes/Q91130546.md&gt; Q91130546&lt;\u0007&gt;</td>\n    </tr>\n    <tr>\n      <th>3</th>\n      <td>Genetic address book for retinal cell types.</td>\n      <td>&lt;a href=./notes/Q43299861.md&gt; Q43299861&lt;\u0007&gt;</td>\n    </tr>\n    <tr>\n      <th>4</th>\n      <td>A community-based transcriptomics classificati...</td>\n      <td>&lt;a href=./notes/Q98665291.md&gt; Q98665291&lt;\u0007&gt;</td>\n    </tr>\n  </tbody>\n</table>\n</div>"
     },
     "metadata": {},
     "execution_count": 18
    }
   ],
   "source": [
    "articles = articles.head()\n",
    "articles[\"wikidata_id\"] = [\"<a href=./notes/\" + i + \".md> \" + i + \"<\\a>\" for i in articles[\"wikidata_id\"]]\n",
    "articles"
   ]
  },
  {
   "cell_type": "code",
   "execution_count": 36,
   "metadata": {},
   "outputs": [
    {
     "output_type": "execute_result",
     "data": {
      "text/plain": [
       "'<table border=\"1\" class=\"dataframe\">\\n  <thead>\\n    <tr style=\"text-align: right;\">\\n      <th></th>\\n      <th>human_id</th>\\n      <th>wikidata_id</th>\\n    </tr>\\n  </thead>\\n  <tbody>\\n    <tr>\\n      <th>0</th>\\n      <td>The top 100 papers</td>\\n      <td>&lt;a href=./notes/Q28250597.md&gt; Q28250597&lt;\\x07&gt;</td>\\n    </tr>\\n    <tr>\\n      <th>1</th>\\n      <td>The origin and evolution of cell types</td>\\n      <td>&lt;a href=./notes/Q38798014.md&gt; Q38798014&lt;\\x07&gt;</td>\\n    </tr>\\n    <tr>\\n      <th>2</th>\\n      <td>Make code accessible with these cloud services</td>\\n      <td>&lt;a href=./notes/Q91130546.md&gt; Q91130546&lt;\\x07&gt;</td>\\n    </tr>\\n    <tr>\\n      <th>3</th>\\n      <td>Genetic address book for retinal cell types.</td>\\n      <td>&lt;a href=./notes/Q43299861.md&gt; Q43299861&lt;\\x07&gt;</td>\\n    </tr>\\n    <tr>\\n      <th>4</th>\\n      <td>A community-based transcriptomics classification and nomenclature of neocortical cell types</td>\\n      <td>&lt;a href=./notes/Q98665291.md&gt; Q98665291&lt;\\x07&gt;</td>\\n    </tr>\\n  </tbody>\\n</table>'"
      ]
     },
     "metadata": {},
     "execution_count": 36
    }
   ],
   "source": [
    "test = articles.to_html(escape=\"True\")\n",
    "test"
   ]
  },
  {
   "cell_type": "code",
   "execution_count": 37,
   "metadata": {},
   "outputs": [],
   "source": [
    "test = test.replace(\"&lt;\", \" <\").replace(\"&gt;\", \">\")"
   ]
  },
  {
   "cell_type": "code",
   "execution_count": 45,
   "metadata": {},
   "outputs": [
    {
     "output_type": "execute_result",
     "data": {
      "text/plain": [
       "'<table border=\"1\" class=\"dataframe\">\\n  <thead>\\n    <tr style=\"text-align: right;\">\\n      <th></th>\\n      <th>human_id</th>\\n      <th>wikidata_id</th>\\n    </tr>\\n  </thead>\\n  <tbody>\\n    <tr>\\n      <th>0</th>\\n      <td>The top 100 papers</td>\\n      <td> <a href=./notes/Q28250597.md> Q28250597 <\\x07></td>\\n    </tr>\\n    <tr>\\n      <th>1</th>\\n      <td>The origin and evolution of cell types</td>\\n      <td> <a href=./notes/Q38798014.md> Q38798014 <\\x07></td>\\n    </tr>\\n    <tr>\\n      <th>2</th>\\n      <td>Make code accessible with these cloud services</td>\\n      <td> <a href=./notes/Q91130546.md> Q91130546 <\\x07></td>\\n    </tr>\\n    <tr>\\n      <th>3</th>\\n      <td>Genetic address book for retinal cell types.</td>\\n      <td> <a href=./notes/Q43299861.md> Q43299861 <\\x07></td>\\n    </tr>\\n    <tr>\\n      <th>4</th>\\n      <td>A community-based transcriptomics classification and nomenclature of neocortical cell types</td>\\n      <td> <a href=./notes/Q98665291.md> Q98665291 <\\x07></td>\\n    </tr>\\n  </tbody>\\n</table>'"
      ]
     },
     "metadata": {},
     "execution_count": 45
    }
   ],
   "source": [
    "test.replace(r\"\\x07\",r\" \")"
   ]
  },
  {
   "cell_type": "code",
   "execution_count": 77,
   "metadata": {},
   "outputs": [],
   "source": [
    "import unicodedata\n",
    "def remove_control_characters(s):\n",
    "    def f(c):\n",
    "        return c\n",
    "    st = []\n",
    "\n",
    "    for ch in s:\n",
    "        if ch == \"\\x07\":\n",
    "            st.append(\"a\")\n",
    "        else:\n",
    "            st.append(ch)\n",
    "            \n",
    "    return \"\".join(st)\n",
    "\n",
    "\n",
    "            \n",
    "\n",
    "           \n"
   ]
  },
  {
   "cell_type": "code",
   "execution_count": 78,
   "metadata": {
    "tags": []
   },
   "outputs": [],
   "source": [
    "test = remove_control_characters(test)"
   ]
  },
  {
   "cell_type": "code",
   "execution_count": 79,
   "metadata": {},
   "outputs": [
    {
     "output_type": "execute_result",
     "data": {
      "text/plain": [
       "'<table border=\"1\" class=\"dataframe\">\\n  <thead>\\n    <tr style=\"text-align: right;\">\\n      <th></th>\\n      <th>human_id</th>\\n      <th>wikidata_id</th>\\n    </tr>\\n  </thead>\\n  <tbody>\\n    <tr>\\n      <th>0</th>\\n      <td>The top 100 papers</td>\\n      <td> <a href=./notes/Q28250597.md> Q28250597 <a></td>\\n    </tr>\\n    <tr>\\n      <th>1</th>\\n      <td>The origin and evolution of cell types</td>\\n      <td> <a href=./notes/Q38798014.md> Q38798014 <a></td>\\n    </tr>\\n    <tr>\\n      <th>2</th>\\n      <td>Make code accessible with these cloud services</td>\\n      <td> <a href=./notes/Q91130546.md> Q91130546 <a></td>\\n    </tr>\\n    <tr>\\n      <th>3</th>\\n      <td>Genetic address book for retinal cell types.</td>\\n      <td> <a href=./notes/Q43299861.md> Q43299861 <a></td>\\n    </tr>\\n    <tr>\\n      <th>4</th>\\n      <td>A community-based transcriptomics classification and nomenclature of neocortical cell types</td>\\n      <td> <a href=./notes/Q98665291.md> Q98665291 <a></td>\\n    </tr>\\n  </tbody>\\n</table>'"
      ]
     },
     "metadata": {},
     "execution_count": 79
    }
   ],
   "source": [
    "test"
   ]
  },
  {
   "cell_type": "code",
   "execution_count": null,
   "metadata": {},
   "outputs": [],
   "source": []
  }
 ]
}