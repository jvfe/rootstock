{
 "metadata": {
  "language_info": {
   "codemirror_mode": {
    "name": "ipython",
    "version": 3
   },
   "file_extension": ".py",
   "mimetype": "text/x-python",
   "name": "python",
   "nbconvert_exporter": "python",
   "pygments_lexer": "ipython3",
   "version": 3
  },
  "orig_nbformat": 2
 },
 "nbformat": 4,
 "nbformat_minor": 2,
 "cells": [
  {
   "cell_type": "code",
   "execution_count": 52,
   "metadata": {},
   "outputs": [],
   "source": [
    "\n",
    "import sys\n",
    "from wikidata2df import wikidata2df\n",
    "from mdutils.mdutils import MdUtils\n",
    "import pandas as pd\n",
    "import os.path\n",
    "import rdflib\n",
    "from datetime import date\n",
    "import os\n",
    "import glob\n",
    "import urllib.parse\n",
    "import pandas as pd\n",
    "import unicodedata\n",
    "from wbib.wbib import render_dashboard"
   ]
  },
  {
   "cell_type": "code",
   "execution_count": 53,
   "metadata": {},
   "outputs": [],
   "source": [
    "\n",
    "g = rdflib.Graph()\n",
    "result = g.parse(\"read.ttl\", format=\"ttl\")\n",
    "wb=rdflib.Namespace(\"https://github.com/lubianat/wikidata_bib/tree/main/\")\n",
    "wbc=rdflib.Namespace(\"https://github.com/lubianat/wikidata_bib/tree/main/collections/\")\n",
    "wbn=rdflib.Namespace(\"https://github.com/lubianat/wikidata_bib/tree/main/notes/\")\n",
    "wd=rdflib.Namespace(\"http://www.wikidata.org/entity/\")\n",
    "\n",
    "qres = g.query(\n",
    "    \"\"\"\n",
    "    SELECT DISTINCT ?a ?time\n",
    "       WHERE {\n",
    "          ?a wb:read_in ?time .\n",
    "       }\"\"\")\n"
   ]
  },
  {
   "cell_type": "code",
   "execution_count": 54,
   "metadata": {},
   "outputs": [],
   "source": [
    "\n",
    "cols = [\"item\", \"date_string\"]\n",
    "dat = pd.DataFrame(columns = cols)\n",
    "for row in qres:\n",
    "    dat = dat.append({'item': str(row[0]), 'date_string':row[1]},ignore_index=True)\n",
    "\n",
    "\n"
   ]
  },
  {
   "cell_type": "code",
   "execution_count": 63,
   "metadata": {},
   "outputs": [],
   "source": [
    "from datetime import datetime, timedelta\n",
    "dat[\"date\"] = [datetime.strptime(i, \"+%Y-%m-%dT00:00:00Z/11\") for i in dat[\"date_string\"]]"
   ]
  },
  {
   "cell_type": "code",
   "execution_count": 56,
   "metadata": {},
   "outputs": [
    {
     "output_type": "execute_result",
     "data": {
      "text/plain": [
       "{'2020/December', '2020/November'}"
      ]
     },
     "metadata": {},
     "execution_count": 56
    }
   ],
   "source": [
    "dat[\"month_year_pair\"] = [date.strftime(\"%Y\") + \"/\" + date.strftime(\"%B\") for date in dat[\"date\"]]\n",
    "\n",
    "set(dat[\"month_year_pair\"])"
   ]
  },
  {
   "cell_type": "code",
   "execution_count": 57,
   "metadata": {},
   "outputs": [],
   "source": [
    "from pathlib import Path\n",
    "for pair in set(dat[\"month_year_pair\"]):\n",
    "    year = pair.split(\"/\")[0]\n",
    "    Path(f\"./{year}\").mkdir(parents=True, exist_ok=True)\n",
    "\n",
    "    mini_dat = dat[dat[\"month_year_pair\"] == pair]\n",
    "    ids = [i.split(\"/\")[4] for i in mini_dat[\"item\"]]\n",
    "    \n",
    "    readings = \"{\"\n",
    "    for i in ids:\n",
    "        readings = readings + \"wd:\" + i + \" \"\n",
    "    readings = readings + \" }\"\n",
    "\n",
    "    with open(pair + \".html\", \"w\") as f:\n",
    "        html = render_dashboard(readings)\n",
    "\n",
    "        f.write(html)"
   ]
  },
  {
   "cell_type": "code",
   "execution_count": 67,
   "metadata": {},
   "outputs": [],
   "source": [
    "\n",
    "week_dat = dat[dat[\"date\"] > (datetime.today() - timedelta(days=7))]\n",
    "ids = [i.split(\"/\")[4] for i in week_dat[\"item\"]]\n",
    "\n",
    "readings = \"{\"\n",
    "for i in ids:\n",
    "    readings = readings + \"wd:\" + i + \" \"\n",
    "readings = readings + \" }\"\n",
    "\n",
    "with open(\"this_week.html\", \"w\") as f:\n",
    "    html = render_dashboard(readings)\n",
    "\n",
    "    f.write(html)\n"
   ]
  },
  {
   "cell_type": "code",
   "execution_count": 66,
   "metadata": {},
   "outputs": [
    {
     "output_type": "execute_result",
     "data": {
      "text/plain": [
       "                                           item               date_string  \\\n",
       "1      http://www.wikidata.org/entity/Q46137497  +2020-12-22T00:00:00Z/11   \n",
       "7      http://www.wikidata.org/entity/Q69587220  +2020-12-24T00:00:00Z/11   \n",
       "12     http://www.wikidata.org/entity/Q37475461  +2020-12-27T00:00:00Z/11   \n",
       "26     http://www.wikidata.org/entity/Q34020397  +2020-12-27T00:00:00Z/11   \n",
       "27     http://www.wikidata.org/entity/Q99616616  +2020-12-24T00:00:00Z/11   \n",
       "28   http://www.wikidata.org/entity/biocuration  +2020-12-27T00:00:00Z/11   \n",
       "29     http://www.wikidata.org/entity/Q66058247  +2020-12-27T00:00:00Z/11   \n",
       "47    http://www.wikidata.org/entity/Q104450390  +2020-12-23T00:00:00Z/11   \n",
       "48    http://www.wikidata.org/entity/Q104079663  +2020-12-23T00:00:00Z/11   \n",
       "49     http://www.wikidata.org/entity/Q27062487  +2020-12-26T00:00:00Z/11   \n",
       "54     http://www.wikidata.org/entity/Q28240611  +2020-12-22T00:00:00Z/11   \n",
       "55     http://www.wikidata.org/entity/Q28642941  +2020-12-22T00:00:00Z/11   \n",
       "66     http://www.wikidata.org/entity/Q31033187  +2020-12-23T00:00:00Z/11   \n",
       "76     http://www.wikidata.org/entity/Q91330127  +2020-12-22T00:00:00Z/11   \n",
       "92     http://www.wikidata.org/entity/Q56984510  +2020-12-25T00:00:00Z/11   \n",
       "93     http://www.wikidata.org/entity/Q33261434  +2020-12-26T00:00:00Z/11   \n",
       "112   http://www.wikidata.org/entity/Q104433073  +2020-12-22T00:00:00Z/11   \n",
       "118   http://www.wikidata.org/entity/Q103800764  +2020-12-24T00:00:00Z/11   \n",
       "120    http://www.wikidata.org/entity/Q36432186  +2020-12-27T00:00:00Z/11   \n",
       "125   http://www.wikidata.org/entity/Q104475823  +2020-12-24T00:00:00Z/11   \n",
       "129   http://www.wikidata.org/entity/Q101210731  +2020-12-23T00:00:00Z/11   \n",
       "141    http://www.wikidata.org/entity/Q38886793  +2020-12-25T00:00:00Z/11   \n",
       "144    http://www.wikidata.org/entity/Q91908361  +2020-12-26T00:00:00Z/11   \n",
       "146    http://www.wikidata.org/entity/Q54370168  +2020-12-25T00:00:00Z/11   \n",
       "151    http://www.wikidata.org/entity/Q91273803  +2020-12-25T00:00:00Z/11   \n",
       "152    http://www.wikidata.org/entity/Q48503347  +2020-12-25T00:00:00Z/11   \n",
       "160    http://www.wikidata.org/entity/Q21169186  +2020-12-26T00:00:00Z/11   \n",
       "\n",
       "          date month_year_pair  \n",
       "1   2020-12-22   2020/December  \n",
       "7   2020-12-24   2020/December  \n",
       "12  2020-12-27   2020/December  \n",
       "26  2020-12-27   2020/December  \n",
       "27  2020-12-24   2020/December  \n",
       "28  2020-12-27   2020/December  \n",
       "29  2020-12-27   2020/December  \n",
       "47  2020-12-23   2020/December  \n",
       "48  2020-12-23   2020/December  \n",
       "49  2020-12-26   2020/December  \n",
       "54  2020-12-22   2020/December  \n",
       "55  2020-12-22   2020/December  \n",
       "66  2020-12-23   2020/December  \n",
       "76  2020-12-22   2020/December  \n",
       "92  2020-12-25   2020/December  \n",
       "93  2020-12-26   2020/December  \n",
       "112 2020-12-22   2020/December  \n",
       "118 2020-12-24   2020/December  \n",
       "120 2020-12-27   2020/December  \n",
       "125 2020-12-24   2020/December  \n",
       "129 2020-12-23   2020/December  \n",
       "141 2020-12-25   2020/December  \n",
       "144 2020-12-26   2020/December  \n",
       "146 2020-12-25   2020/December  \n",
       "151 2020-12-25   2020/December  \n",
       "152 2020-12-25   2020/December  \n",
       "160 2020-12-26   2020/December  "
      ],
      "text/html": "<div>\n<style scoped>\n    .dataframe tbody tr th:only-of-type {\n        vertical-align: middle;\n    }\n\n    .dataframe tbody tr th {\n        vertical-align: top;\n    }\n\n    .dataframe thead th {\n        text-align: right;\n    }\n</style>\n<table border=\"1\" class=\"dataframe\">\n  <thead>\n    <tr style=\"text-align: right;\">\n      <th></th>\n      <th>item</th>\n      <th>date_string</th>\n      <th>date</th>\n      <th>month_year_pair</th>\n    </tr>\n  </thead>\n  <tbody>\n    <tr>\n      <th>1</th>\n      <td>http://www.wikidata.org/entity/Q46137497</td>\n      <td>+2020-12-22T00:00:00Z/11</td>\n      <td>2020-12-22</td>\n      <td>2020/December</td>\n    </tr>\n    <tr>\n      <th>7</th>\n      <td>http://www.wikidata.org/entity/Q69587220</td>\n      <td>+2020-12-24T00:00:00Z/11</td>\n      <td>2020-12-24</td>\n      <td>2020/December</td>\n    </tr>\n    <tr>\n      <th>12</th>\n      <td>http://www.wikidata.org/entity/Q37475461</td>\n      <td>+2020-12-27T00:00:00Z/11</td>\n      <td>2020-12-27</td>\n      <td>2020/December</td>\n    </tr>\n    <tr>\n      <th>26</th>\n      <td>http://www.wikidata.org/entity/Q34020397</td>\n      <td>+2020-12-27T00:00:00Z/11</td>\n      <td>2020-12-27</td>\n      <td>2020/December</td>\n    </tr>\n    <tr>\n      <th>27</th>\n      <td>http://www.wikidata.org/entity/Q99616616</td>\n      <td>+2020-12-24T00:00:00Z/11</td>\n      <td>2020-12-24</td>\n      <td>2020/December</td>\n    </tr>\n    <tr>\n      <th>28</th>\n      <td>http://www.wikidata.org/entity/biocuration</td>\n      <td>+2020-12-27T00:00:00Z/11</td>\n      <td>2020-12-27</td>\n      <td>2020/December</td>\n    </tr>\n    <tr>\n      <th>29</th>\n      <td>http://www.wikidata.org/entity/Q66058247</td>\n      <td>+2020-12-27T00:00:00Z/11</td>\n      <td>2020-12-27</td>\n      <td>2020/December</td>\n    </tr>\n    <tr>\n      <th>47</th>\n      <td>http://www.wikidata.org/entity/Q104450390</td>\n      <td>+2020-12-23T00:00:00Z/11</td>\n      <td>2020-12-23</td>\n      <td>2020/December</td>\n    </tr>\n    <tr>\n      <th>48</th>\n      <td>http://www.wikidata.org/entity/Q104079663</td>\n      <td>+2020-12-23T00:00:00Z/11</td>\n      <td>2020-12-23</td>\n      <td>2020/December</td>\n    </tr>\n    <tr>\n      <th>49</th>\n      <td>http://www.wikidata.org/entity/Q27062487</td>\n      <td>+2020-12-26T00:00:00Z/11</td>\n      <td>2020-12-26</td>\n      <td>2020/December</td>\n    </tr>\n    <tr>\n      <th>54</th>\n      <td>http://www.wikidata.org/entity/Q28240611</td>\n      <td>+2020-12-22T00:00:00Z/11</td>\n      <td>2020-12-22</td>\n      <td>2020/December</td>\n    </tr>\n    <tr>\n      <th>55</th>\n      <td>http://www.wikidata.org/entity/Q28642941</td>\n      <td>+2020-12-22T00:00:00Z/11</td>\n      <td>2020-12-22</td>\n      <td>2020/December</td>\n    </tr>\n    <tr>\n      <th>66</th>\n      <td>http://www.wikidata.org/entity/Q31033187</td>\n      <td>+2020-12-23T00:00:00Z/11</td>\n      <td>2020-12-23</td>\n      <td>2020/December</td>\n    </tr>\n    <tr>\n      <th>76</th>\n      <td>http://www.wikidata.org/entity/Q91330127</td>\n      <td>+2020-12-22T00:00:00Z/11</td>\n      <td>2020-12-22</td>\n      <td>2020/December</td>\n    </tr>\n    <tr>\n      <th>92</th>\n      <td>http://www.wikidata.org/entity/Q56984510</td>\n      <td>+2020-12-25T00:00:00Z/11</td>\n      <td>2020-12-25</td>\n      <td>2020/December</td>\n    </tr>\n    <tr>\n      <th>93</th>\n      <td>http://www.wikidata.org/entity/Q33261434</td>\n      <td>+2020-12-26T00:00:00Z/11</td>\n      <td>2020-12-26</td>\n      <td>2020/December</td>\n    </tr>\n    <tr>\n      <th>112</th>\n      <td>http://www.wikidata.org/entity/Q104433073</td>\n      <td>+2020-12-22T00:00:00Z/11</td>\n      <td>2020-12-22</td>\n      <td>2020/December</td>\n    </tr>\n    <tr>\n      <th>118</th>\n      <td>http://www.wikidata.org/entity/Q103800764</td>\n      <td>+2020-12-24T00:00:00Z/11</td>\n      <td>2020-12-24</td>\n      <td>2020/December</td>\n    </tr>\n    <tr>\n      <th>120</th>\n      <td>http://www.wikidata.org/entity/Q36432186</td>\n      <td>+2020-12-27T00:00:00Z/11</td>\n      <td>2020-12-27</td>\n      <td>2020/December</td>\n    </tr>\n    <tr>\n      <th>125</th>\n      <td>http://www.wikidata.org/entity/Q104475823</td>\n      <td>+2020-12-24T00:00:00Z/11</td>\n      <td>2020-12-24</td>\n      <td>2020/December</td>\n    </tr>\n    <tr>\n      <th>129</th>\n      <td>http://www.wikidata.org/entity/Q101210731</td>\n      <td>+2020-12-23T00:00:00Z/11</td>\n      <td>2020-12-23</td>\n      <td>2020/December</td>\n    </tr>\n    <tr>\n      <th>141</th>\n      <td>http://www.wikidata.org/entity/Q38886793</td>\n      <td>+2020-12-25T00:00:00Z/11</td>\n      <td>2020-12-25</td>\n      <td>2020/December</td>\n    </tr>\n    <tr>\n      <th>144</th>\n      <td>http://www.wikidata.org/entity/Q91908361</td>\n      <td>+2020-12-26T00:00:00Z/11</td>\n      <td>2020-12-26</td>\n      <td>2020/December</td>\n    </tr>\n    <tr>\n      <th>146</th>\n      <td>http://www.wikidata.org/entity/Q54370168</td>\n      <td>+2020-12-25T00:00:00Z/11</td>\n      <td>2020-12-25</td>\n      <td>2020/December</td>\n    </tr>\n    <tr>\n      <th>151</th>\n      <td>http://www.wikidata.org/entity/Q91273803</td>\n      <td>+2020-12-25T00:00:00Z/11</td>\n      <td>2020-12-25</td>\n      <td>2020/December</td>\n    </tr>\n    <tr>\n      <th>152</th>\n      <td>http://www.wikidata.org/entity/Q48503347</td>\n      <td>+2020-12-25T00:00:00Z/11</td>\n      <td>2020-12-25</td>\n      <td>2020/December</td>\n    </tr>\n    <tr>\n      <th>160</th>\n      <td>http://www.wikidata.org/entity/Q21169186</td>\n      <td>+2020-12-26T00:00:00Z/11</td>\n      <td>2020-12-26</td>\n      <td>2020/December</td>\n    </tr>\n  </tbody>\n</table>\n</div>"
     },
     "metadata": {},
     "execution_count": 66
    }
   ],
   "source": []
  },
  {
   "cell_type": "code",
   "execution_count": null,
   "metadata": {},
   "outputs": [],
   "source": []
  }
 ]
}