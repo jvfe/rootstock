{
 "cells": [
  {
   "cell_type": "code",
   "execution_count": null,
   "metadata": {},
   "outputs": [],
   "source": [
    "# Adapted from https://github.com/lubianat/ann/blob/main/prototypes/notebooks/scispacy_linking_via_umls.ipynb\n",
    "\n",
    "import scispacy\n",
    "import spacy\n",
    "import pandas as pd\n",
    "from wikidataintegrator import wdi_core\n",
    "from scispacy.abbreviation import AbbreviationDetector\n",
    "from scispacy.linking import EntityLinker\n",
    "from functools import lru_cache\n",
    "\n",
    "import en_core_sci_md\n",
    "nlp = en_core_sci_md.load()"
   ]
  },
  {
   "cell_type": "code",
   "execution_count": null,
   "metadata": {},
   "outputs": [],
   "source": [
    "abbreviation_pipe = AbbreviationDetector(nlp)\n",
    "nlp.add_pipe(abbreviation_pipe)\n",
    "linker = EntityLinker(resolve_abbreviations=True, name=\"umls\")\n",
    "nlp.add_pipe(linker)\n"
   ]
  },
  {
   "cell_type": "code",
   "execution_count": null,
   "metadata": {},
   "outputs": [],
   "source": [
    "\n",
    "# Function by github.com/lubianat with some slight alterations by github.com/jvfe\n",
    "@lru_cache(maxsize=None)\n",
    "def get_wikidata_item(wikidata_property, value):\n",
    "    \"\"\"Gets a Wikidata item for a determined property-value pair\n",
    "\n",
    "\n",
    "      Args:\n",
    "        property (str): The property to search\n",
    "        value (str): The value of said property\n",
    "      \n",
    "      Returns:\n",
    "        str: A Wikidata item or a \"None\" value if no item found.\n",
    "    \"\"\"\n",
    "    query_result = wdi_core.WDItemEngine.execute_sparql_query(\n",
    "        f'SELECT distinct ?item WHERE {{ ?item wdt:{wikidata_property} \"{value}\" }}'\n",
    "    )\n",
    "    try:\n",
    "        match = query_result[\"results\"][\"bindings\"][0]\n",
    "    except:\n",
    "        return None\n",
    "    qid = match[\"item\"][\"value\"]\n",
    "\n",
    "    qid = qid.split(\"/\")[4]\n",
    "    return qid"
   ]
  },
  {
   "cell_type": "code",
   "execution_count": null,
   "metadata": {},
   "outputs": [],
   "source": [
    "def get_wdt_items_from_umls_entities(doc):\n",
    "  \"\"\"Create a table from the UMLS entities and link them to WDT\n",
    "  \"\"\"\n",
    "  identified = []\n",
    "  for ent in doc.ents:\n",
    "      try:\n",
    "        best_id = ent._.kb_ents[0][0]\n",
    "      except IndexError:\n",
    "        best_id = None\n",
    "      identified.append([ent.text, ent.start_char, ent.end_char, best_id])\n",
    "\n",
    "  entity_df = pd.DataFrame.from_records(identified, \n",
    "                                        columns=['label', 'start_pos', 'end_pos', 'umls_id'])\n",
    "  \n",
    "  entity_df['qid'] = entity_df['umls_id'].apply(lambda x: get_wikidata_item(\"P2892\", x))\n",
    "\n",
    "  return entity_df"
   ]
  },
  {
   "cell_type": "code",
   "execution_count": null,
   "metadata": {},
   "outputs": [],
   "source": [
    "text = \"\"\"\n",
    "Spinal and bulbar muscular atrophy (SBMA) is an\n",
    "inherited motor neuron disease caused by the expansion\n",
    "of a polyglutamine tract within the androgen receptor (AR).\n",
    "SBMA can be caused by this easily.\n",
    "\"\"\"\n",
    "\n",
    "doc = nlp(text)"
   ]
  },
  {
   "cell_type": "code",
   "execution_count": null,
   "metadata": {},
   "outputs": [],
   "source": [
    "get_wdt_items_from_umls_entities(doc)\n"
   ]
  }
 ],
 "metadata": {
  "kernelspec": {
   "display_name": "Python 3",
   "language": "python",
   "name": "python3"
  },
  "language_info": {
   "codemirror_mode": {
    "name": "ipython",
    "version": 3
   },
   "file_extension": ".py",
   "mimetype": "text/x-python",
   "name": "python",
   "nbconvert_exporter": "python",
   "pygments_lexer": "ipython3",
   "version": "3.6.9"
  }
 },
 "nbformat": 4,
 "nbformat_minor": 4
}
