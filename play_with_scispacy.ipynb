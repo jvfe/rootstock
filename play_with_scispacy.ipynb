{
 "cells": [
  {
   "cell_type": "code",
   "execution_count": 1,
   "metadata": {},
   "outputs": [
    {
     "name": "stderr",
     "output_type": "stream",
     "text": [
      "/home/lubianat/.local/lib/python3.6/site-packages/spacy/util.py:275: UserWarning: [W031] Model 'en_core_sci_sm' (0.2.4) requires spaCy v2.2 and is incompatible with the current spaCy version (2.3.2). This may lead to unexpected results or runtime errors. To resolve this, download a newer compatible model or retrain your custom model with the current spaCy version. For more details and available updates, run: python -m spacy validate\n",
      "  warnings.warn(warn_msg)\n"
     ]
    }
   ],
   "source": [
    "# Adapted from https://github.com/lubianat/ann/blob/main/prototypes/notebooks/scispacy_linking_via_umls.ipynb\n",
    "\n",
    "import scispacy\n",
    "import spacy\n",
    "import pandas as pd\n",
    "from wikidataintegrator import wdi_core\n",
    "from scispacy.abbreviation import AbbreviationDetector\n",
    "from scispacy.linking import EntityLinker\n",
    "from functools import lru_cache\n",
    "\n",
    "import en_core_sci_sm\n",
    "nlp = en_core_sci_sm.load()"
   ]
  },
  {
   "cell_type": "code",
   "execution_count": 2,
   "metadata": {},
   "outputs": [
    {
     "name": "stderr",
     "output_type": "stream",
     "text": [
      "/home/lubianat/.local/lib/python3.6/site-packages/sklearn/base.py:334: UserWarning: Trying to unpickle estimator TfidfTransformer from version 0.20.3 when using version 0.23.1. This might lead to breaking code or invalid results. Use at your own risk.\n",
      "  UserWarning)\n",
      "/home/lubianat/.local/lib/python3.6/site-packages/sklearn/base.py:334: UserWarning: Trying to unpickle estimator TfidfVectorizer from version 0.20.3 when using version 0.23.1. This might lead to breaking code or invalid results. Use at your own risk.\n",
      "  UserWarning)\n"
     ]
    },
    {
     "name": "stdout",
     "output_type": "stream",
     "text": [
      "https://s3-us-west-2.amazonaws.com/ai2-s2-scispacy/data/umls_semantic_type_tree.tsv not found in cache, downloading to /tmp/tmpfmm6z43j\n",
      "Finished download, copying /tmp/tmpfmm6z43j to cache at /home/lubianat/.scispacy/datasets/21a1012c532c3a431d60895c509f5b4d45b0f8966c4178b892190a302b21836f.330707f4efe774134872b9f77f0e3208c1d30f50800b3b39a6b8ec21d9adf1b7.umls_semantic_type_tree.tsv\n"
     ]
    }
   ],
   "source": [
    "abbreviation_pipe = AbbreviationDetector(nlp)\n",
    "nlp.add_pipe(abbreviation_pipe)\n",
    "linker = EntityLinker(resolve_abbreviations=True, name=\"umls\")\n",
    "nlp.add_pipe(linker)\n"
   ]
  },
  {
   "cell_type": "code",
   "execution_count": 3,
   "metadata": {},
   "outputs": [],
   "source": [
    "\n",
    "# Function by github.com/lubianat with some slight alterations by github.com/jvfe\n",
    "@lru_cache(maxsize=None)\n",
    "def get_wikidata_item(wikidata_property, value):\n",
    "    \"\"\"Gets a Wikidata item for a determined property-value pair\n",
    "\n",
    "\n",
    "      Args:\n",
    "        property (str): The property to search\n",
    "        value (str): The value of said property\n",
    "      \n",
    "      Returns:\n",
    "        str: A Wikidata item or a \"None\" value if no item found.\n",
    "    \"\"\"\n",
    "    query_result = wdi_core.WDItemEngine.execute_sparql_query(\n",
    "        f'SELECT distinct ?item WHERE {{ ?item wdt:{wikidata_property} \"{value}\" }}'\n",
    "    )\n",
    "    try:\n",
    "        match = query_result[\"results\"][\"bindings\"][0]\n",
    "    except:\n",
    "        return None\n",
    "    qid = match[\"item\"][\"value\"]\n",
    "\n",
    "    qid = qid.split(\"/\")[4]\n",
    "    return qid"
   ]
  },
  {
   "cell_type": "code",
   "execution_count": 29,
   "metadata": {},
   "outputs": [],
   "source": [
    "def get_wdt_items_from_umls_entities(doc):\n",
    "    \"\"\"Create a table from the UMLS entities and link them to WDT\n",
    "    \"\"\"\n",
    "    identified = []\n",
    "    for ent in doc.ents:\n",
    "        print(ent)\n",
    "        try:\n",
    "            best_id = ent._.kb_ents[0][0]\n",
    "        except IndexError:\n",
    "            best_id = None\n",
    "        print(best_id)\n",
    "        identified.append([ent.text, ent.start_char, ent.end_char, best_id])\n",
    "\n",
    "    entity_df = pd.DataFrame.from_records(identified, \n",
    "                                        columns=['label', 'start_pos', 'end_pos', 'umls_id'])\n",
    "    \n",
    "    entity_df['qid'] = entity_df['umls_id'].apply(lambda x: get_wikidata_item(\"P2892\", x))\n",
    "\n",
    "    return entity_df"
   ]
  },
  {
   "cell_type": "code",
   "execution_count": 30,
   "metadata": {},
   "outputs": [
    {
     "name": "stderr",
     "output_type": "stream",
     "text": [
      "/home/lubianat/.local/lib/python3.6/site-packages/scispacy/candidate_generation.py:283: VisibleDeprecationWarning: Creating an ndarray from ragged nested sequences (which is a list-or-tuple of lists-or-tuples-or ndarrays with different lengths or shapes) is deprecated. If you meant to do this, you must specify 'dtype=object' when creating the ndarray\n",
      "  extended_neighbors[empty_vectors_boolean_flags] = numpy.array(neighbors)[:-1]\n",
      "/home/lubianat/.local/lib/python3.6/site-packages/scispacy/candidate_generation.py:284: VisibleDeprecationWarning: Creating an ndarray from ragged nested sequences (which is a list-or-tuple of lists-or-tuples-or ndarrays with different lengths or shapes) is deprecated. If you meant to do this, you must specify 'dtype=object' when creating the ndarray\n",
      "  extended_distances[empty_vectors_boolean_flags] = numpy.array(distances)[:-1]\n"
     ]
    }
   ],
   "source": [
    "text = \"\"\"\n",
    "Name-calling in the hippocampus (and beyond): coming to terms with neuron types and properties\n",
    "D.\"\"\"\n",
    "\n",
    "doc = nlp(text)"
   ]
  },
  {
   "cell_type": "code",
   "execution_count": 31,
   "metadata": {},
   "outputs": [
    {
     "data": {
      "text/plain": [
       "(Name-calling, hippocampus, neuron types, properties)"
      ]
     },
     "execution_count": 31,
     "metadata": {},
     "output_type": "execute_result"
    }
   ],
   "source": [
    "doc.ents"
   ]
  },
  {
   "cell_type": "code",
   "execution_count": 32,
   "metadata": {},
   "outputs": [
    {
     "name": "stdout",
     "output_type": "stream",
     "text": [
      "Name-calling\n",
      "None\n",
      "hippocampus\n",
      "C0019564\n",
      "neuron types\n",
      "C0332307\n",
      "properties\n",
      "C0871161\n"
     ]
    },
    {
     "data": {
      "text/html": [
       "<div>\n",
       "<style scoped>\n",
       "    .dataframe tbody tr th:only-of-type {\n",
       "        vertical-align: middle;\n",
       "    }\n",
       "\n",
       "    .dataframe tbody tr th {\n",
       "        vertical-align: top;\n",
       "    }\n",
       "\n",
       "    .dataframe thead th {\n",
       "        text-align: right;\n",
       "    }\n",
       "</style>\n",
       "<table border=\"1\" class=\"dataframe\">\n",
       "  <thead>\n",
       "    <tr style=\"text-align: right;\">\n",
       "      <th></th>\n",
       "      <th>label</th>\n",
       "      <th>start_pos</th>\n",
       "      <th>end_pos</th>\n",
       "      <th>umls_id</th>\n",
       "      <th>qid</th>\n",
       "    </tr>\n",
       "  </thead>\n",
       "  <tbody>\n",
       "    <tr>\n",
       "      <th>0</th>\n",
       "      <td>Name-calling</td>\n",
       "      <td>1</td>\n",
       "      <td>13</td>\n",
       "      <td>None</td>\n",
       "      <td>None</td>\n",
       "    </tr>\n",
       "    <tr>\n",
       "      <th>1</th>\n",
       "      <td>hippocampus</td>\n",
       "      <td>21</td>\n",
       "      <td>32</td>\n",
       "      <td>C0019564</td>\n",
       "      <td>None</td>\n",
       "    </tr>\n",
       "    <tr>\n",
       "      <th>2</th>\n",
       "      <td>neuron types</td>\n",
       "      <td>68</td>\n",
       "      <td>80</td>\n",
       "      <td>C0332307</td>\n",
       "      <td>Q104370009</td>\n",
       "    </tr>\n",
       "    <tr>\n",
       "      <th>3</th>\n",
       "      <td>properties</td>\n",
       "      <td>85</td>\n",
       "      <td>95</td>\n",
       "      <td>C0871161</td>\n",
       "      <td>None</td>\n",
       "    </tr>\n",
       "  </tbody>\n",
       "</table>\n",
       "</div>"
      ],
      "text/plain": [
       "          label  start_pos  end_pos   umls_id         qid\n",
       "0  Name-calling          1       13      None        None\n",
       "1   hippocampus         21       32  C0019564        None\n",
       "2  neuron types         68       80  C0332307  Q104370009\n",
       "3    properties         85       95  C0871161        None"
      ]
     },
     "execution_count": 32,
     "metadata": {},
     "output_type": "execute_result"
    }
   ],
   "source": [
    "get_wdt_items_from_umls_entities(doc)"
   ]
  },
  {
   "cell_type": "code",
   "execution_count": null,
   "metadata": {},
   "outputs": [],
   "source": []
  }
 ],
 "metadata": {
  "kernelspec": {
   "display_name": "Python 3",
   "language": "python",
   "name": "python3"
  },
  "language_info": {
   "codemirror_mode": {
    "name": "ipython",
    "version": 3
   },
   "file_extension": ".py",
   "mimetype": "text/x-python",
   "name": "python",
   "nbconvert_exporter": "python",
   "pygments_lexer": "ipython3",
   "version": "3.6.9"
  }
 },
 "nbformat": 4,
 "nbformat_minor": 4
}
